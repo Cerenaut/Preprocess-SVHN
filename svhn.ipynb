{
 "cells": [
  {
   "cell_type": "code",
   "execution_count": 1,
   "metadata": {
    "collapsed": true
   },
   "outputs": [],
   "source": [
    "%reload_ext autoreload\n",
    "%autoreload 2\n",
    "%matplotlib inline"
   ]
  },
  {
   "cell_type": "code",
   "execution_count": 2,
   "metadata": {
    "collapsed": true
   },
   "outputs": [],
   "source": [
    "import os\n",
    "import binascii\n",
    "import numpy as np\n",
    "from PIL import Image\n",
    "import scipy.io as sio\n",
    "import matplotlib.pyplot as plt"
   ]
  },
  {
   "cell_type": "code",
   "execution_count": 3,
   "metadata": {
    "collapsed": true
   },
   "outputs": [],
   "source": [
    "PATH = os.getenv('AGI_DATA_HOME') + '/svhn/' # Path to dataset"
   ]
  },
  {
   "cell_type": "code",
   "execution_count": 4,
   "metadata": {
    "collapsed": true
   },
   "outputs": [],
   "source": [
    "# Load the train/test data\n",
    "train_data = sio.loadmat(PATH + 'src/train_32x32.mat')\n",
    "test_data = sio.loadmat(PATH + 'src/test_32x32.mat')"
   ]
  },
  {
   "cell_type": "code",
   "execution_count": 5,
   "metadata": {
    "collapsed": true
   },
   "outputs": [],
   "source": [
    "# Split features/labels\n",
    "X_train = train_data['X']\n",
    "y_train = train_data['y']\n",
    "\n",
    "X_test = test_data['X']\n",
    "y_test = test_data['y']"
   ]
  },
  {
   "cell_type": "code",
   "execution_count": 6,
   "metadata": {},
   "outputs": [
    {
     "name": "stdout",
     "output_type": "stream",
     "text": [
      "X_train: (32, 32, 3, 73257)\n",
      "y_train: (73257, 1)\n",
      "X_test: (32, 32, 3, 26032)\n",
      "y_test: (26032, 1)\n"
     ]
    }
   ],
   "source": [
    "# Data dimensions\n",
    "print('X_train: {0}'.format(X_train.shape))\n",
    "print('y_train: {0}'.format(y_train.shape))\n",
    "print('X_test: {0}'.format(X_test.shape))\n",
    "print('y_test: {0}'.format(y_test.shape))"
   ]
  },
  {
   "cell_type": "code",
   "execution_count": 24,
   "metadata": {},
   "outputs": [
    {
     "name": "stdout",
     "output_type": "stream",
     "text": [
      "[[    1 13861]\n",
      " [    2 10585]\n",
      " [    3  8497]\n",
      " [    4  7458]\n",
      " [    5  6882]\n",
      " [    6  5727]\n",
      " [    7  5595]\n",
      " [    8  5045]\n",
      " [    9  4659]\n",
      " [   10  4948]]\n"
     ]
    }
   ],
   "source": [
    "y_train_count = np.bincount(y_train.ravel())\n",
    "y_train_labels = np.nonzero(y_train_count)[0]\n",
    "y_train_freq = np.vstack((y_train_labels, y_train_count[y_train_labels])).T\n",
    "print(y_train_freq)"
   ]
  },
  {
   "cell_type": "code",
   "execution_count": 25,
   "metadata": {},
   "outputs": [
    {
     "name": "stdout",
     "output_type": "stream",
     "text": [
      "[[   1 5099]\n",
      " [   2 4149]\n",
      " [   3 2882]\n",
      " [   4 2523]\n",
      " [   5 2384]\n",
      " [   6 1977]\n",
      " [   7 2019]\n",
      " [   8 1660]\n",
      " [   9 1595]\n",
      " [  10 1744]]\n"
     ]
    }
   ],
   "source": [
    "y_test_count = np.bincount(y_test.ravel())\n",
    "y_test_labels = np.nonzero(y_test_count)[0]\n",
    "y_test_freq = np.vstack((y_test_labels, y_test_count[y_test_labels])).T\n",
    "print(y_test_freq)"
   ]
  },
  {
   "cell_type": "code",
   "execution_count": 18,
   "metadata": {},
   "outputs": [
    {
     "name": "stdout",
     "output_type": "stream",
     "text": [
      "Label: [1]\n"
     ]
    },
    {
     "data": {
      "text/plain": [
       "<module 'matplotlib.pyplot' from '/Users/Abdel/Developer/anaconda/envs/py27/lib/python2.7/site-packages/matplotlib/pyplot.pyc'>"
      ]
     },
     "execution_count": 18,
     "metadata": {},
     "output_type": "execute_result"
    },
    {
     "data": {
      "image/png": "[encoded data removed]",
      "text/plain": [
       "<matplotlib.figure.Figure at 0x1185ce790>"
      ]
     },
     "metadata": {},
     "output_type": "display_data"
    }
   ],
   "source": [
    "# Show sample image\n",
    "image_index = 0\n",
    "\n",
    "plt.imshow(X_train[:, :, :, image_index])\n",
    "print('Label: {0}'.format(y_train[image_index]))\n",
    "plt"
   ]
  },
  {
   "cell_type": "markdown",
   "metadata": {
    "collapsed": true
   },
   "source": [
    "## Preprocessing"
   ]
  },
  {
   "cell_type": "code",
   "execution_count": 46,
   "metadata": {
    "collapsed": true
   },
   "outputs": [],
   "source": [
    "# Path to training/test data\n",
    "train_path = PATH + 'training/'\n",
    "test_path = PATH + 'testing/'\n",
    "\n",
    "train_count = int(X_train.shape[3])\n",
    "test_count = int(X_test.shape[3])"
   ]
  },
  {
   "cell_type": "code",
   "execution_count": 47,
   "metadata": {
    "collapsed": true
   },
   "outputs": [],
   "source": [
    "def preprocess(X, y, num_data, target_path, data_type, num_labels=10, num_random=6, display_step=1000):\n",
    "    # Initialise label count\n",
    "    label_count = {}\n",
    "    for i in range(num_labels):\n",
    "        label_count[i] = 0\n",
    "    \n",
    "    for i in range(num_data):\n",
    "        label = y[i][0]\n",
    "        random = binascii.hexlify(os.urandom(num_random // 2)).decode()\n",
    "\n",
    "        count = 0\n",
    "        if label in label_count:\n",
    "            count = label_count[label]\n",
    "            count += 1\n",
    "        label_count[label] = count\n",
    "\n",
    "        filename = '%s_%s_%i_%i.png' % (data_type, random, label, label_count[label])\n",
    "        image = Image.fromarray(X_train[:, :, :, i])\n",
    "#         image = image.convert('LA') # grayscale\n",
    "        image.save(target_path + filename)\n",
    "\n",
    "        if i % display_step == 0 or i == 1:\n",
    "            print('Step #%i: saved %s' % (i, filename))"
   ]
  },
  {
   "cell_type": "code",
   "execution_count": 42,
   "metadata": {},
   "outputs": [
    {
     "name": "stdout",
     "output_type": "stream",
     "text": [
      "Step #0: saved train_9212a6_1_1.png\n"
     ]
    }
   ],
   "source": [
    "preprocess(X_train, y_train, 1, train_path, 'train')"
   ]
  },
  {
   "cell_type": "code",
   "execution_count": 45,
   "metadata": {},
   "outputs": [
    {
     "name": "stdout",
     "output_type": "stream",
     "text": [
      "Step #0: saved test_a334e6_5_1.png\n"
     ]
    }
   ],
   "source": [
    "preprocess(X_test, y_test, 1, test_path, 'test')"
   ]
  },
  {
   "cell_type": "code",
   "execution_count": null,
   "metadata": {
    "collapsed": true
   },
   "outputs": [],
   "source": []
  }
 ],
 "metadata": {
  "kernelspec": {
   "display_name": "Python 3",
   "language": "python",
   "name": "python3"
  },
  "language_info": {
   "codemirror_mode": {
    "name": "ipython",
    "version": 3
   },
   "file_extension": ".py",
   "mimetype": "text/x-python",
   "name": "python",
   "nbconvert_exporter": "python",
   "pygments_lexer": "ipython3",
   "version": "3.6.1"
  }
 },
 "nbformat": 4,
 "nbformat_minor": 2
}
